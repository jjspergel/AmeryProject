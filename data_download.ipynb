{
 "cells": [
  {
   "cell_type": "code",
   "execution_count": 1,
   "metadata": {},
   "outputs": [],
   "source": [
    "import numpy as np\n",
    "import pandas as pd\n",
    "import xarray as xr\n",
    "import cartopy.crs as ccrs\n",
    "from matplotlib import pyplot as plt"
   ]
  },
  {
   "cell_type": "code",
   "execution_count": 1,
   "metadata": {},
   "outputs": [
    {
     "name": "stdout",
     "output_type": "stream",
     "text": [
      "--2018-11-12 20:03:53--  http://aws.acecrc.org.au/data/AmeryG3_antarctic_aws_1999_2017.nc\n",
      "Resolving aws.acecrc.org.au (aws.acecrc.org.au)... 144.6.226.118\n",
      "Connecting to aws.acecrc.org.au (aws.acecrc.org.au)|144.6.226.118|:80... connected.\n",
      "HTTP request sent, awaiting response... 200 OK\n",
      "Length: 9260468 (8.8M) [application/x-netcdf]\n",
      "Saving to: ‘AmeryG3_antarctic_aws_1999_2017.nc’\n",
      "\n",
      "AmeryG3_antarctic_a 100%[===================>]   8.83M  4.31MB/s    in 2.0s    \n",
      "\n",
      "2018-11-12 20:03:56 (4.31 MB/s) - ‘AmeryG3_antarctic_aws_1999_2017.nc’ saved [9260468/9260468]\n",
      "\n"
     ]
    }
   ],
   "source": [
    "! wget http://aws.acecrc.org.au/data/AmeryG3_antarctic_aws_1999_2017.nc"
   ]
  },
  {
   "cell_type": "code",
   "execution_count": 1,
   "metadata": {},
   "outputs": [],
   "source": [
    "import xarray as xr\n",
    "import pandas as pd\n",
    "AmeryAWS = xr.open_dataset('AmeryG3_antarctic_aws_1999_2017.nc')\n",
    "AmeryAWS.Time\n",
    "AmeryAWS = AmeryAWS.swap_dims({'time':'Time'})"
   ]
  },
  {
   "cell_type": "code",
   "execution_count": 2,
   "metadata": {},
   "outputs": [
    {
     "data": {
      "text/plain": [
       "[<matplotlib.lines.Line2D at 0x7f9c4404aa20>]"
      ]
     },
     "execution_count": 2,
     "metadata": {},
     "output_type": "execute_result"
    },
    {
     "data": {
      "image/png": "[encoded data removed]",
      "text/plain": [
       "<Figure size 432x288 with 1 Axes>"
      ]
     },
     "metadata": {},
     "output_type": "display_data"
    }
   ],
   "source": [
    "%matplotlib inline\n",
    "AiT4 = AmeryAWS.AiT4\n",
    "AiT1 = AmeryAWS.AiT1\n",
    "AiT4.plot()"
   ]
  },
  {
   "cell_type": "code",
   "execution_count": 3,
   "metadata": {},
   "outputs": [],
   "source": [
    "import pandas as pd\n",
    "nclist = {}\n",
    "ncnames = {}\n",
    "ncurls = {}\n",
    "for year in range(1999,2017):\n",
    "    nclist[year] = pd.read_csv('patmosx_list_'+str(year)+'.txt', sep='\\s+')\n",
    "    ncnames[year] = nclist[year].Name\n",
    "    ncurls[year] = \"https://www.ncei.noaa.gov/data/avhrr-reflectance-cloud-properties-patmos-extended/access/\"+ str(year)+\"/\"+ncnames[year]"
   ]
  },
  {
   "cell_type": "code",
   "execution_count": 4,
   "metadata": {},
   "outputs": [
    {
     "data": {
      "text/plain": [
       "'https://www.ncei.noaa.gov/data/avhrr-reflectance-cloud-properties-patmos-extended/access/1999/patmosx_v05r03_NOAA-14_asc_d19990101_c20140314.nc'"
      ]
     },
     "execution_count": 4,
     "metadata": {},
     "output_type": "execute_result"
    }
   ],
   "source": [
    "ncurls[1999][0]"
   ]
  },
  {
   "cell_type": "code",
   "execution_count": null,
   "metadata": {},
   "outputs": [],
   "source": []
  },
  {
   "cell_type": "code",
   "execution_count": 3,
   "metadata": {},
   "outputs": [],
   "source": [
    "import dask.array as da\n",
    "import numpy as np\n",
    "import xarray as xr"
   ]
  },
  {
   "cell_type": "markdown",
   "metadata": {},
   "source": []
  },
  {
   "cell_type": "code",
   "execution_count": null,
   "metadata": {},
   "outputs": [],
   "source": [
    "\n"
   ]
  },
  {
   "cell_type": "code",
   "execution_count": 37,
   "metadata": {},
   "outputs": [
    {
     "data": {
      "text/plain": [
       "<xarray.DataArray ()>\n",
       "array(<built-in method values of dict object at 0x7f0eeb615c18>, dtype=object)"
      ]
     },
     "execution_count": 37,
     "metadata": {},
     "output_type": "execute_result"
    }
   ],
   "source": []
  },
  {
   "cell_type": "code",
   "execution_count": 6,
   "metadata": {},
   "outputs": [],
   "source": [
    "import pandas as pd\n",
    "url_list = pd.read_csv('patmosx_daplist.csv',skipinitialspace=True)\n",
    "url_list = url_list['Name'][10374:10374+365]\n",
    "url_list = 'http://www.ncei.noaa.gov/thredds/dodsC/avhrr-patmos-x-cloudprops-noaa-asc-fc/files/' + url_list\n",
    "#urls = 'http://www.ncei.noaa.gov/thredds/dodsC/avhrr-patmos-x-cloudprops-noaa-asc-fc/files/1999/patmosx_v05r03_NOAA-14_asc_d19990101_c20140314.nc'\n",
    "#http://www.ncei.noaa.gov/thredds/dodsC/avhrr-patmos-x-cloudprops-noaa-asc-fc/files/1999/patmosx_v05r03_NOAA-14_asc_d19990102_c20140316.nc?cloud_fraction[0:1:0][0:1:0][0:1:0],latitude[0:1:1799],longitude[0:1:3599],time[0:1:0]"
   ]
  },
  {
   "cell_type": "code",
   "execution_count": null,
   "metadata": {},
   "outputs": [],
   "source": []
  },
  {
   "cell_type": "code",
   "execution_count": 7,
   "metadata": {},
   "outputs": [],
   "source": [
    "ds = xr.open_mfdataset(url_list, chunks=10**9, mask_and_scale=True)"
   ]
  },
  {
   "cell_type": "code",
   "execution_count": 9,
   "metadata": {},
   "outputs": [
    {
     "data": {
      "text/plain": [
       "<xarray.Dataset>\n",
       "Dimensions:                        (latitude: 1800, longitude: 3600, time: 365)\n",
       "Coordinates:\n",
       "  * latitude                       (latitude) float32 -89.947815 -89.84893 ...\n",
       "  * longitude                      (longitude) float32 -179.94507 -179.84619 ...\n",
       "  * time                           (time) datetime64[ns] 1999-01-02 ...\n",
       "Data variables:\n",
       "    acha_info                      (time, latitude, longitude) uint8 dask.array<shape=(365, 1800, 3600), chunksize=(1, 1800, 3600)>\n",
       "    acha_quality                   (time, latitude, longitude) uint8 dask.array<shape=(365, 1800, 3600), chunksize=(1, 1800, 3600)>\n",
       "    bad_pixel_mask                 (time, latitude, longitude) float32 dask.array<shape=(365, 1800, 3600), chunksize=(1, 1800, 3600)>\n",
       "    cld_emiss_acha                 (time, latitude, longitude) float32 dask.array<shape=(365, 1800, 3600), chunksize=(1, 1800, 3600)>\n",
       "    cld_height_acha                (time, latitude, longitude) float32 dask.array<shape=(365, 1800, 3600), chunksize=(1, 1800, 3600)>\n",
       "    cld_height_uncer_acha          (time, latitude, longitude) float32 dask.array<shape=(365, 1800, 3600), chunksize=(1, 1800, 3600)>\n",
       "    cld_opd_acha                   (time, latitude, longitude) float32 dask.array<shape=(365, 1800, 3600), chunksize=(1, 1800, 3600)>\n",
       "    cld_opd_dcomp                  (time, latitude, longitude) float32 dask.array<shape=(365, 1800, 3600), chunksize=(1, 1800, 3600)>\n",
       "    cld_opd_dcomp_unc              (time, latitude, longitude) float32 dask.array<shape=(365, 1800, 3600), chunksize=(1, 1800, 3600)>\n",
       "    cld_press_acha                 (time, latitude, longitude) float32 dask.array<shape=(365, 1800, 3600), chunksize=(1, 1800, 3600)>\n",
       "    cld_reff_acha                  (time, latitude, longitude) float32 dask.array<shape=(365, 1800, 3600), chunksize=(1, 1800, 3600)>\n",
       "    cld_reff_dcomp                 (time, latitude, longitude) float32 dask.array<shape=(365, 1800, 3600), chunksize=(1, 1800, 3600)>\n",
       "    cld_reff_dcomp_unc             (time, latitude, longitude) float32 dask.array<shape=(365, 1800, 3600), chunksize=(1, 1800, 3600)>\n",
       "    cld_temp_acha                  (time, latitude, longitude) float32 dask.array<shape=(365, 1800, 3600), chunksize=(1, 1800, 3600)>\n",
       "    cloud_fraction                 (time, latitude, longitude) float32 dask.array<shape=(365, 1800, 3600), chunksize=(1, 1800, 3600)>\n",
       "    cloud_fraction_uncertainty     (time, latitude, longitude) float32 dask.array<shape=(365, 1800, 3600), chunksize=(1, 1800, 3600)>\n",
       "    cloud_mask                     (time, latitude, longitude) float32 dask.array<shape=(365, 1800, 3600), chunksize=(1, 1800, 3600)>\n",
       "    cloud_probability              (time, latitude, longitude) float32 dask.array<shape=(365, 1800, 3600), chunksize=(1, 1800, 3600)>\n",
       "    cloud_transmission_0_65um_nom  (time, latitude, longitude) float32 dask.array<shape=(365, 1800, 3600), chunksize=(1, 1800, 3600)>\n",
       "    cloud_type                     (time, latitude, longitude) float32 dask.array<shape=(365, 1800, 3600), chunksize=(1, 1800, 3600)>\n",
       "    cloud_water_path               (time, latitude, longitude) float32 dask.array<shape=(365, 1800, 3600), chunksize=(1, 1800, 3600)>\n",
       "    dcomp_info                     (time, latitude, longitude) int16 dask.array<shape=(365, 1800, 3600), chunksize=(1, 1800, 3600)>\n",
       "    dcomp_quality                  (time, latitude, longitude) uint8 dask.array<shape=(365, 1800, 3600), chunksize=(1, 1800, 3600)>\n",
       "    glint_mask                     (time, latitude, longitude) float32 dask.array<shape=(365, 1800, 3600), chunksize=(1, 1800, 3600)>\n",
       "    land_class                     (time, latitude, longitude) float32 dask.array<shape=(365, 1800, 3600), chunksize=(1, 1800, 3600)>\n",
       "    refl_0_65um_nom                (time, latitude, longitude) float32 dask.array<shape=(365, 1800, 3600), chunksize=(1, 1800, 3600)>\n",
       "    refl_0_65um_nom_counts         (time, latitude, longitude) float32 dask.array<shape=(365, 1800, 3600), chunksize=(1, 1800, 3600)>\n",
       "    refl_0_65um_nom_stddev_3x3     (time, latitude, longitude) float32 dask.array<shape=(365, 1800, 3600), chunksize=(1, 1800, 3600)>\n",
       "    refl_0_86um_nom                (time, latitude, longitude) float32 dask.array<shape=(365, 1800, 3600), chunksize=(1, 1800, 3600)>\n",
       "    refl_0_86um_nom_counts         (time, latitude, longitude) float32 dask.array<shape=(365, 1800, 3600), chunksize=(1, 1800, 3600)>\n",
       "    refl_1_60um_nom                (time, latitude, longitude) float32 dask.array<shape=(365, 1800, 3600), chunksize=(1, 1800, 3600)>\n",
       "    refl_1_60um_nom_counts         (time, latitude, longitude) float32 dask.array<shape=(365, 1800, 3600), chunksize=(1, 1800, 3600)>\n",
       "    refl_3_75um_nom                (time, latitude, longitude) float32 dask.array<shape=(365, 1800, 3600), chunksize=(1, 1800, 3600)>\n",
       "    relative_azimuth_angle         (time, latitude, longitude) float32 dask.array<shape=(365, 1800, 3600), chunksize=(1, 1800, 3600)>\n",
       "    scan_element_number            (time, latitude, longitude) int32 dask.array<shape=(365, 1800, 3600), chunksize=(1, 1800, 3600)>\n",
       "    scan_line_number               (time, latitude, longitude) int32 dask.array<shape=(365, 1800, 3600), chunksize=(1, 1800, 3600)>\n",
       "    scan_line_time                 (time, latitude, longitude) timedelta64[ns] dask.array<shape=(365, 1800, 3600), chunksize=(1, 1800, 3600)>\n",
       "    sensor_zenith_angle            (time, latitude, longitude) float32 dask.array<shape=(365, 1800, 3600), chunksize=(1, 1800, 3600)>\n",
       "    snow_class                     (time, latitude, longitude) float32 dask.array<shape=(365, 1800, 3600), chunksize=(1, 1800, 3600)>\n",
       "    solar_azimuth_angle            (time, latitude, longitude) float32 dask.array<shape=(365, 1800, 3600), chunksize=(1, 1800, 3600)>\n",
       "    solar_zenith_angle             (time, latitude, longitude) float32 dask.array<shape=(365, 1800, 3600), chunksize=(1, 1800, 3600)>\n",
       "    surface_temperature_retrieved  (time, latitude, longitude) float32 dask.array<shape=(365, 1800, 3600), chunksize=(1, 1800, 3600)>\n",
       "    surface_type                   (time, latitude, longitude) float32 dask.array<shape=(365, 1800, 3600), chunksize=(1, 1800, 3600)>\n",
       "    temp_11_0um_nom                (time, latitude, longitude) float32 dask.array<shape=(365, 1800, 3600), chunksize=(1, 1800, 3600)>\n",
       "    temp_11_0um_nom_clear_sky      (time, latitude, longitude) float32 dask.array<shape=(365, 1800, 3600), chunksize=(1, 1800, 3600)>\n",
       "    temp_11_0um_nom_stddev_3x3     (time, latitude, longitude) float32 dask.array<shape=(365, 1800, 3600), chunksize=(1, 1800, 3600)>\n",
       "    temp_12_0um_nom                (time, latitude, longitude) float32 dask.array<shape=(365, 1800, 3600), chunksize=(1, 1800, 3600)>\n",
       "    temp_3_75um_nom                (time, latitude, longitude) float32 dask.array<shape=(365, 1800, 3600), chunksize=(1, 1800, 3600)>\n",
       "Attributes:\n",
       "    HDF_LIB_VERSION:                      NCSA HDF Version 4.2 Release 1, Feb...\n",
       "    MACHINE:                              r720-0-15.local\n",
       "    PROGLANG:                             F90\n",
       "    date_created:                         2014-03-16T11:42:22Z\n",
       "    product_version:                      v05r03\n",
       "    summary:                               Included in this file are PATMOS-x...\n",
       "    cdr_variable:                          refl_0_65um_nom, refl_0_86um_nom, ...\n",
       "    institution:                           NOAA/NESDIS and the University of ...\n",
       "    cdr_program:                           NOAA Climate Data Record Program f...\n",
       "    title:                                 PATMOS-x AVHRR reflectance, bright...\n",
       "    calibration_version:                  mc5y2011\n",
       "    keywords:                             EARTH SCIENCE > LAND SURFACE > SURF...\n",
       "    keywords_vocabulary:                  NASA Global Change Master Directory...\n",
       "    time_coverage_resolution:             P1D\n",
       "    metadata_link:                        gov.noaa.ncdc:C00837 gov.noaa.ncdc....\n",
       "    spatial_resolution:                   0.1 x 0.1 degree equal-angle grid\n",
       "    Conventions:                          CF-1.6\n",
       "    Metadata_Conventions:                 CF-1.6, Unidata Dataset Discovery v1.0\n",
       "    standard_name_vocabulary:             CF Standard Name Table (v25, 05 Jul...\n",
       "    naming_authority:                     gov.noaa.ncdc\n",
       "    license:                              No constraints on data access or use.\n",
       "    sensor:                               AVHRR/2\n",
       "    platform:                             NOAA-14\n",
       "    ACHA_MODE:                            1\n",
       "    DCOMP_MODE:                           3\n",
       "    WMO_SATELLITE_CODE:                   205\n",
       "    REFL_0_65UM_NOM_DARK_COMPOSITE_NAME:  no_file\n",
       "    NAIVE_BAYESIAN_CLOUD_MASK_NAME:       avhrr_default_bayes_mask_no_t11_tst...\n",
       "    DATA_TYPE:                            PIXEL\n",
       "    USE_1B_THERMAL_CALIBRATION_FLAG:      0\n",
       "    USE_1B_REFLECTANCE_CALIBRATION_FLAG:  0\n",
       "    RENAVIGATION_FLAG:                    0\n",
       "    USE_SST_ANALYSIS_FLAG:                1\n",
       "    SST_ANALYSIS_SOURCE_FLAG:             0\n",
       "    NWP_FLAG:                             3\n",
       "    MODIS_CLEAR_SKY_REFLECTANCE_FLAG:     1\n",
       "    CH1_GAIN_LOW:                         0.13481805\n",
       "    CH1_GAIN_HIGH:                        0.13481805\n",
       "    CH1_SWITCH_COUNT:                     999.0\n",
       "    CH1_DARK_COUNT:                       41.01047\n",
       "    CH2_GAIN_LOW:                         0.15457186\n",
       "    CH2_GAIN_HIGH:                        0.15457186\n",
       "    CH2_SWITCH_COUNT:                     999.0\n",
       "    CH2_DARK_COUNT:                       41.003593\n",
       "    CH3A_GAIN_LOW:                        0.0\n",
       "    CH3A_GAIN_HIGH:                       0.0\n",
       "    CH3A_SWITCH_COUNT:                    999.0\n",
       "    CH3A_DARK_COUNT:                      987.98566\n",
       "    SUN_EARTH_DISTANCE:                   0.9832933\n",
       "    C1:                                   1.191062e-05\n",
       "    C2:                                   1.4387863\n",
       "    A_20:                                 -1.88533\n",
       "    B_20:                                 1.003839\n",
       "    NU_20:                                2654.25\n",
       "    A_31:                                 -0.308384\n",
       "    B_31:                                 1.001443\n",
       "    NU_31:                                928.349\n",
       "    A_32:                                 0.022171\n",
       "    B_32:                                 1.000538\n",
       "    NU_32:                                833.04\n",
       "    SOLAR_20_NU:                          15.623811\n",
       "    TIME_ERROR_SECONDS:                   0.0\n",
       "    CLOUD_MASK_VERSION:                   $Id: naive_bayesian_cloud_mask_modu...\n",
       "    CLOUD_MASK_THRESHOLDS_VERSION:        $Id: avhrr_default_bayes_mask_no_t1...\n",
       "    CLOUD_TYPE_VERSION:                   $Id: universal_cloud_type.f90 37 20...\n",
       "    ACHA_VERSION:                         $Id: awg_cloud_height.f90 68 2014-0...\n",
       "    DCOMP_VERSION:                        $Id: dcomp_array.f90 85 2014-02-25 ...\n",
       "    NUMBER_OF_ELEMENTS:                   409\n",
       "    PROCESSING_TIME_MINUTES:              2.3421478\n",
       "    NONCONFIDENT_CLOUD_MASK_FRACTION:     0.21791306\n",
       "    ACHA_SUCCESS_FRACTION:                0.99771327\n",
       "    DCOMP_SUCCESS_FRACTION:               0.9684403\n",
       "    geospatial_lon_number:                3600\n",
       "    geospatial_lat_number:                1800\n",
       "    geospatial_lon_spacing:               0.1\n",
       "    geospatial_lat_spacing:               0.1\n",
       "    geospatial_lat_units:                 degrees_north\n",
       "    geospatial_lon_units:                 degrees_east\n",
       "    geospatial_lon_min:                   -179.95\n",
       "    geospatial_lon_max:                   179.95\n",
       "    geospatial_lat_max:                   89.95001\n",
       "    geospatial_lat_min:                   -89.95\n",
       "    cdm_data_type:                        Grid\n",
       "    time_coverage_start:                  1999-01-02T00:00:00Z\n",
       "    time_coverage_end:                    1999-01-02T23:59:59Z\n",
       "    id:                                   patmosx_v05r03_noaa-14_asc_d1999010...\n",
       "    DATA_NODE:                            asc\n",
       "    COMPOSITE_TIME_HOURS:                 0000\n",
       "    COMPOSITE_TIME_WINDOW_HOURS:          00\n",
       "    SENSOR_ZENITH_SAMPLING_METHOD:        MOST_NADIR\n",
       "    SPATIAL_SAMPLING_METHOD:              NEAREST_NEIGHBOR\n",
       "    source:                               NSS.GHRR.NJ.D99001.S2314.E0101.B206...\n",
       "    FRACTION_WITH_DATA:                   0.99699014\n",
       "    FRACTION_WITH_VALID_DATA:             0.99699014\n",
       "    FRACTION_WITH_DAYTIME_DATA:           0.8526298\n",
       "    FRACTION_WITH_CLOUDY_DATA:            0.65758204\n",
       "    FRACTION_WITH_ICE_CLOUDY_DATA:        0.38300526\n",
       "    MEAN_DAY_REFLECTANCE_0_65UM_NOM:      38.3249\n",
       "    MEAN_DAY_REFLECTANCE_0_86UM_NOM:      36.93554\n",
       "    MEAN_DAY_REFLECTANCE_1_60UM_NOM:      -999.0\n",
       "    MEAN_TEMPERATURE_3_750UM_NOM:         278.65067\n",
       "    MEAN_TEMPERATURE_11_0UM_NOM:          264.61118\n",
       "    MEAN_TEMPERATURE_12_0UM_NOM:          263.1984\n",
       "    _History:                             Direct read of HDF4 file through CD...\n",
       "    HDF4_Version:                         4.2.1 (NCSA HDF Version 4.2 Release...\n",
       "    history:                              2014-03-16T11:42:22Z file produced ...\n",
       "    DODS_EXTRA.Unlimited_Dimension:       time"
      ]
     },
     "execution_count": 9,
     "metadata": {},
     "output_type": "execute_result"
    }
   ],
   "source": [
    "ds"
   ]
  },
  {
   "cell_type": "code",
   "execution_count": 69,
   "metadata": {},
   "outputs": [
    {
     "name": "stderr",
     "output_type": "stream",
     "text": [
      "/opt/conda/lib/python3.6/site-packages/xarray/core/dataarray.py:1638: SerializationWarning: saving variable latitude with floating point data as an integer dtype without any _FillValue to use for NaNs\n",
      "  return dataset.to_netcdf(*args, **kwargs)\n",
      "/opt/conda/lib/python3.6/site-packages/xarray/core/dataarray.py:1638: SerializationWarning: saving variable longitude with floating point data as an integer dtype without any _FillValue to use for NaNs\n",
      "  return dataset.to_netcdf(*args, **kwargs)\n"
     ]
    }
   ],
   "source": [
    "cloud_fract = ds.cloud_fraction.sel(latitude=slice(-75,-65),longitude=slice(50,85))-0.5\n",
    "cloud_fract.to_netcdf('cloud_fract','w')"
   ]
  },
  {
   "cell_type": "code",
   "execution_count": null,
   "metadata": {},
   "outputs": [],
   "source": []
  },
  {
   "cell_type": "code",
   "execution_count": 12,
   "metadata": {},
   "outputs": [],
   "source": [
    "%matplotlib inline\n",
    "cloud_fract_arealmean = cloud_fract.mean(dim=('latitude','longitude'))\n",
    "                                         "
   ]
  },
  {
   "cell_type": "code",
   "execution_count": 13,
   "metadata": {},
   "outputs": [
    {
     "data": {
      "text/plain": [
       "[<matplotlib.lines.Line2D at 0x7fdddf6791d0>]"
      ]
     },
     "execution_count": 13,
     "metadata": {},
     "output_type": "execute_result"
    },
    {
     "data": {
      "image/png": "[encoded data removed]",
      "text/plain": [
       "<Figure size 432x288 with 1 Axes>"
      ]
     },
     "metadata": {},
     "output_type": "display_data"
    }
   ],
   "source": [
    "cloud_fract_arealmean.plot()"
   ]
  },
  {
   "cell_type": "code",
   "execution_count": 68,
   "metadata": {},
   "outputs": [
    {
     "name": "stderr",
     "output_type": "stream",
     "text": [
      "/opt/conda/lib/python3.6/site-packages/dask/local.py:255: RuntimeWarning: invalid value encountered in greater\n",
      "  return func(*args2)\n"
     ]
    }
   ],
   "source": [
    "percent_cloudy = ((cloud_fract.where(cloud_fract>0.5).count(dim=('latitude','longitude')))/cloud_fract.count(dim=('latitude','longitude')))\n",
    "percent_cloudy.to_netcdf(path='percent_cloudy',mode='w')"
   ]
  },
  {
   "cell_type": "code",
   "execution_count": 34,
   "metadata": {},
   "outputs": [
    {
     "data": {
      "text/plain": [
       "<xarray.DataArray 'cloud_fraction' ()>\n",
       "array(0.233)"
      ]
     },
     "execution_count": 34,
     "metadata": {},
     "output_type": "execute_result"
    }
   ],
   "source": [
    "#((cloud_fract.sel(time='1999-06-24').where(cloud_fract>0.5).count())/cloud_fract.sel(time='1999-06-24').count()).compute()"
   ]
  },
  {
   "cell_type": "code",
   "execution_count": 65,
   "metadata": {},
   "outputs": [
    {
     "name": "stderr",
     "output_type": "stream",
     "text": [
      "/opt/conda/lib/python3.6/site-packages/dask/local.py:255: RuntimeWarning: invalid value encountered in greater\n",
      "  return func(*args2)\n"
     ]
    },
    {
     "data": {
      "text/plain": [
       "[<matplotlib.lines.Line2D at 0x7fdde4128f60>]"
      ]
     },
     "execution_count": 65,
     "metadata": {},
     "output_type": "execute_result"
    },
    {
     "data": {
      "image/png": "[encoded data removed]",
      "text/plain": [
       "<Figure size 432x288 with 1 Axes>"
      ]
     },
     "metadata": {},
     "output_type": "display_data"
    }
   ],
   "source": [
    "percent_cloudy.groupby(percent_cloudy.time.dt.month).mean().plot()"
   ]
  },
  {
   "cell_type": "code",
   "execution_count": null,
   "metadata": {},
   "outputs": [],
   "source": []
  },
  {
   "cell_type": "code",
   "execution_count": null,
   "metadata": {},
   "outputs": [],
   "source": []
  }
 ],
 "metadata": {
  "kernelspec": {
   "display_name": "Python 3",
   "language": "python",
   "name": "python3"
  },
  "language_info": {
   "codemirror_mode": {
    "name": "ipython",
    "version": 3
   },
   "file_extension": ".py",
   "mimetype": "text/x-python",
   "name": "python",
   "nbconvert_exporter": "python",
   "pygments_lexer": "ipython3",
   "version": "3.6.6"
  }
 },
 "nbformat": 4,
 "nbformat_minor": 2
}
